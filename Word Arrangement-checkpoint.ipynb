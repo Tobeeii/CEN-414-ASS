{
 "cells": [
  {
   "cell_type": "code",
   "execution_count": 1,
   "id": "e686fac0-2090-4f8d-bc66-53684334aacd",
   "metadata": {},
   "outputs": [
    {
     "name": "stdout",
     "output_type": "stream",
     "text": [
      "['bee', 'cat', 'dog', 'dolphin', 'elephant', 'fish', 'zebra']\n",
      "['zebra', 'fish', 'elephant', 'dolphin', 'dog', 'cat', 'bee']\n"
     ]
    }
   ],
   "source": [
    "list = ['dog','cat', 'elephant', 'zebra', 'bee', 'fish', 'dolphin']\n",
    "for i in range(0,len(list)):\n",
    "    for j in range(0,len(list)):\n",
    "        if (list[j] > list[i]):\n",
    "            temp= list[i]\n",
    "            list[i]= list[j]\n",
    "            list[j]= temp\n",
    "    \n",
    "print(list)\n",
    "\n",
    "for i in range(0,len(list)):\n",
    "    for j in range(0,len(list)):\n",
    "        if (list[j] < list[i]):\n",
    "            temp= list[i]\n",
    "            list[i]= list[j]\n",
    "            list[j]= temp\n",
    "    \n",
    "print(list)"
   ]
  },
  {
   "cell_type": "code",
   "execution_count": null,
   "id": "9162ed13-2623-4996-85e1-23b37f9a8e9f",
   "metadata": {},
   "outputs": [],
   "source": []
  },
  {
   "cell_type": "code",
   "execution_count": null,
   "id": "ff7547bc-a9d3-402e-a798-996a82ee00fd",
   "metadata": {},
   "outputs": [],
   "source": []
  }
 ],
 "metadata": {
  "kernelspec": {
   "display_name": "Python 3 (ipykernel)",
   "language": "python",
   "name": "python3"
  },
  "language_info": {
   "codemirror_mode": {
    "name": "ipython",
    "version": 3
   },
   "file_extension": ".py",
   "mimetype": "text/x-python",
   "name": "python",
   "nbconvert_exporter": "python",
   "pygments_lexer": "ipython3",
   "version": "3.10.7"
  }
 },
 "nbformat": 4,
 "nbformat_minor": 5
}
